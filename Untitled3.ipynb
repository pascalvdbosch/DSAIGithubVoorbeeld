{
 "cells": [
  {
   "cell_type": "markdown",
   "id": "5a2adb54-0615-49aa-8bdb-ce129b7f60e7",
   "metadata": {},
   "source": [
    "Dit is een hele eenvoudige Python implementatie van MapReduce. Zie voor meer informatie de [Wikipedia pagina](https://en.wikipedia.org/w/index.php?title=MapReduce&oldid=1174612487). "
   ]
  },
  {
   "cell_type": "code",
   "execution_count": 50,
   "id": "282e67f8-58a4-4bbf-84fb-f02570f3a73c",
   "metadata": {},
   "outputs": [],
   "source": [
    "import functools\n",
    "import os"
   ]
  },
  {
   "cell_type": "markdown",
   "id": "34be1171-8533-446d-93d4-7e9f69a321a7",
   "metadata": {},
   "source": [
    "We verzamelen de eerste paar comments in [deze](https://www.youtube.com/watch?v=RBSUwFGa6Fk) video. "
   ]
  },
  {
   "cell_type": "code",
   "execution_count": 51,
   "id": "59618891-6436-483f-b494-b6aa7a4f6f6c",
   "metadata": {},
   "outputs": [],
   "source": [
    "documents = [open(file, 'r', encoding=\"UTF8\").read() for file in os.listdir(os.getcwd()) if file.endswith('.txt')]"
   ]
  },
  {
   "cell_type": "markdown",
   "id": "dc9368eb-66f2-462e-8356-9ef87259204c",
   "metadata": {},
   "source": [
    "De volgende twee functies bepalen hoe er ge-map-ped en ge-reduce-d wordt. "
   ]
  },
  {
   "cell_type": "code",
   "execution_count": 52,
   "id": "bc82c00b-d399-4990-a876-8f3aa1a2d9b9",
   "metadata": {},
   "outputs": [],
   "source": [
    "def map_function(document):\n",
    "    word_count = {}\n",
    "    words = document.split()\n",
    "    for word in words:\n",
    "        word = word.lower()\n",
    "        word = word.strip('.,!?')\n",
    "        if word not in word_count: \n",
    "            word_count[word] = 0\n",
    "        word_count[word] += 1\n",
    "    return word_count\n",
    "\n",
    "def reduce_function(counts1, counts2):\n",
    "    total_counts = { }\n",
    "    for word, count in counts1.items():\n",
    "        if word not in total_counts: \n",
    "            total_counts[word] = 0\n",
    "        total_counts[word] += count\n",
    "    for word, count in counts2.items():\n",
    "        if word not in total_counts: \n",
    "            total_counts[word] = 0\n",
    "        total_counts[word] += count\n",
    "    return total_counts"
   ]
  },
  {
   "cell_type": "markdown",
   "id": "4c12a40f-b1c6-4279-9394-f891445664f6",
   "metadata": {},
   "source": [
    "De volgende code is het algoritme MapReduce. "
   ]
  },
  {
   "cell_type": "code",
   "execution_count": 53,
   "id": "1a5862ba-5c44-4872-a778-2e34fa4cca9f",
   "metadata": {},
   "outputs": [],
   "source": [
    "# Map phase: Apply the map_function to each document\n",
    "mapped_results = map(map_function, documents)\n",
    "\n",
    "# Reduce phase: Combine and aggregate the results from the map phase\n",
    "word_counts = functools.reduce(reduce_function, mapped_results)"
   ]
  },
  {
   "cell_type": "markdown",
   "id": "fe894748-990c-4bd7-a2cf-1944da2aa088",
   "metadata": {},
   "source": [
    "Een gedeelte van het resultaat wordt getoond. "
   ]
  },
  {
   "cell_type": "code",
   "execution_count": 54,
   "id": "ddb92afe-0932-4161-85b8-2057ae81fc0f",
   "metadata": {},
   "outputs": [
    {
     "name": "stdout",
     "output_type": "stream",
     "text": [
      "the: 3\n",
      "you: 3\n",
      "best: 2\n",
      "explanation: 2\n",
      "seen: 2\n",
      "in: 2\n",
      "his: 2\n",
      "to: 2\n",
      "it: 2\n",
      "excellent: 2\n",
      "thank: 2\n"
     ]
    }
   ],
   "source": [
    "# Print the word counts\n",
    "for word, count in sorted(word_counts.items(), key=lambda wc: -wc[1]):\n",
    "    if count == 1:\n",
    "        break\n",
    "    print(f\"{word}: {count}\")"
   ]
  }
 ],
 "metadata": {
  "kernelspec": {
   "display_name": "Python 3 (ipykernel)",
   "language": "python",
   "name": "python3"
  },
  "language_info": {
   "codemirror_mode": {
    "name": "ipython",
    "version": 3
   },
   "file_extension": ".py",
   "mimetype": "text/x-python",
   "name": "python",
   "nbconvert_exporter": "python",
   "pygments_lexer": "ipython3",
   "version": "3.11.5"
  }
 },
 "nbformat": 4,
 "nbformat_minor": 5
}
